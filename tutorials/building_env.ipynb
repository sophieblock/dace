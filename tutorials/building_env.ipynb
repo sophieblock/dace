{
 "cells": [
  {
   "cell_type": "code",
   "execution_count": null,
   "id": "4448e886",
   "metadata": {},
   "outputs": [
    {
     "ename": "ModuleNotFoundError",
     "evalue": "No module named 'dace'",
     "output_type": "error",
     "traceback": [
      "\u001b[31m---------------------------------------------------------------------------\u001b[39m",
      "\u001b[31mModuleNotFoundError\u001b[39m                       Traceback (most recent call last)",
      "\u001b[36mCell\u001b[39m\u001b[36m \u001b[39m\u001b[32mIn[6]\u001b[39m\u001b[32m, line 1\u001b[39m\n\u001b[32m----> \u001b[39m\u001b[32m1\u001b[39m \u001b[38;5;28;01mimport\u001b[39;00m\u001b[38;5;250m \u001b[39m\u001b[34;01mdace\u001b[39;00m\n\u001b[32m      2\u001b[39m \u001b[38;5;28;01mimport\u001b[39;00m\u001b[38;5;250m \u001b[39m\u001b[34;01mos\u001b[39;00m,\u001b[34;01msys\u001b[39;00m\n\u001b[32m      3\u001b[39m \u001b[38;5;28;01mimport\u001b[39;00m\u001b[38;5;250m \u001b[39m\u001b[34;01mdace\u001b[39;00m\u001b[34;01m.\u001b[39;00m\u001b[34;01mlibrary\u001b[39;00m\n",
      "\u001b[31mModuleNotFoundError\u001b[39m: No module named 'dace'"
     ]
    }
   ],
   "source": [
    "import dace\n",
    "import os,sys\n",
    "import dace.library\n",
    "import dace.properties\n",
    "import dace.sdfg.nodes\n",
    "from dace.transformation.transformation import ExpandTransformation\n",
    "from dace import SDFG, SDFGState, symbolic, dtypes\n",
    "import numpy as np\n",
    "from dace import Config\n",
    "\n",
    "print('Python:', sys.version.split()[0])\n",
    "cp = os.environ.get('CONDA_PREFIX')\n",
    "print(' CONDA prefix:', cp)\n",
    "lib = os.path.join(cp, 'lib')\n",
    "print(dir(Config))\n",
    "current_conf = Config\n",
    "current_conf.get('default_build_folder')"
   ]
  },
  {
   "cell_type": "code",
   "execution_count": 7,
   "id": "af521abe",
   "metadata": {},
   "outputs": [
    {
     "name": "stdout",
     "output_type": "stream",
     "text": [
      "Synchronous debugging enabled: False\n"
     ]
    }
   ],
   "source": [
    "\n",
    "print('Synchronous debugging enabled:', Config.get_bool('compiler', 'cuda', 'syncdebug'))\n",
    "\n",
    "Config.set('frontend', 'unroll_threshold', value=11)"
   ]
  },
  {
   "cell_type": "code",
   "execution_count": 6,
   "id": "af6be60c",
   "metadata": {},
   "outputs": [
    {
     "name": "stdout",
     "output_type": "stream",
     "text": [
      "dace version: 1.0.0\n",
      "Config default_build_folder: .dacecache\n",
      "Env DACE_default_build_folder: None\n",
      "compiler.cpu.executable: /opt/homebrew/opt/llvm/bin/clang++\n",
      "compiler.cpu.executable = /opt/homebrew/opt/llvm/bin/clang++\n",
      "compiler.build_type = RelWithDebInfo\n"
     ]
    }
   ],
   "source": [
    "from dace.config import Config\n",
    "import dace\n",
    "\n",
    "print('dace version:', dace.__version__)\n",
    "print('Config default_build_folder:', Config.get('default_build_folder'))\n",
    "print('Env DACE_default_build_folder:', os.environ.get('DACE_default_build_folder'))\n",
    "print(f\"compiler.cpu.executable: {Config.get('compiler','cpu','executable')}\")\n",
    "\n",
    "for key in [('compiler','cpu','executable'), ('compiler','build_type')]:\n",
    "    try:\n",
    "        print('.'.join(key), '=', Config.get('.'.join(key)))\n",
    "    except Exception as e:\n",
    "        print('.'.join(key), 'not in schema or not set (', e, ')')"
   ]
  },
  {
   "cell_type": "code",
   "execution_count": 3,
   "id": "939d4510",
   "metadata": {},
   "outputs": [
    {
     "name": "stdout",
     "output_type": "stream",
     "text": [
      "extra_cmake_args: \n",
      "extra_cmake_args: \n"
     ]
    }
   ],
   "source": [
    "config_dict = current_conf.get()\n",
    "\n",
    "config_dict.keys()\n",
    "# print(f\"\")\n",
    "\n",
    "print('extra_cmake_args:', Config.get('compiler','extra_cmake_args'))\n",
    "\n",
    "print('extra_cmake_args:', Config.get('compiler','extra_cmake_args'))\n",
    "\n"
   ]
  },
  {
   "cell_type": "code",
   "execution_count": 14,
   "id": "e0ae2cd5",
   "metadata": {},
   "outputs": [
    {
     "data": {
      "text/plain": [
       "{'blas': {'default_implementation': 'pure',\n",
       "  'override': False,\n",
       "  'fpga': {'default_stream_depth': 32}},\n",
       " 'lapack': {'default_implementation': 'OpenBLAS', 'override': False},\n",
       " 'linalg': {'default_implementation': 'OpenBLAS', 'override': False},\n",
       " 'pblas': {'default_implementation': 'MKLMPICH', 'override': False}}"
      ]
     },
     "execution_count": 14,
     "metadata": {},
     "output_type": "execute_result"
    }
   ],
   "source": [
    "current_conf.get('library')"
   ]
  },
  {
   "cell_type": "code",
   "execution_count": 12,
   "id": "5c1bf084",
   "metadata": {},
   "outputs": [
    {
     "data": {
      "text/plain": [
       "{'use_cache': False,\n",
       " 'library_prefix': 'lib',\n",
       " 'library_extension': 'dylib',\n",
       " 'indentation_spaces': 4,\n",
       " 'build_type': 'RelWithDebInfo',\n",
       " 'allow_shadowing': True,\n",
       " 'codegen_lineinfo': False,\n",
       " 'codegen_state_struct_suffix': '_state_t',\n",
       " 'format_code': False,\n",
       " 'format_config_file': '',\n",
       " 'default_data_types': 'Python',\n",
       " 'unique_functions': 'hash',\n",
       " 'allow_view_arguments': False,\n",
       " 'inline_sdfgs': False,\n",
       " 'max_stack_array_size': 65536,\n",
       " 'extra_cmake_args': '',\n",
       " 'cpu': {'executable': '',\n",
       "  'args': '-std=c++14 -fPIC -Wall -Wextra -O3 -march=native -ffast-math -Wno-unused-parameter -Wno-unused-label',\n",
       "  'libs': '',\n",
       "  'openmp_sections': False},\n",
       " 'cuda': {'backend': 'auto',\n",
       "  'path': '',\n",
       "  'args': '-Xcompiler -march=native --use_fast_math -Xcompiler -Wno-unused-parameter',\n",
       "  'hip_args': '-std=c++17 -fPIC -O3 -ffast-math -Wno-unused-parameter',\n",
       "  'cuda_arch': '60',\n",
       "  'hip_arch': 'gfx906',\n",
       "  'default_block_size': '32,1,1',\n",
       "  'dynamic_map_block_size': '128,1,1',\n",
       "  'dynamic_map_fine_grained': True,\n",
       "  'persistent_map_SM_fraction': 1.0,\n",
       "  'persistent_map_occupancy': 2,\n",
       "  'max_concurrent_streams': 0,\n",
       "  'syncdebug': False,\n",
       "  'libs': '',\n",
       "  'mempool_release_threshold': -1,\n",
       "  'block_size_limit': 1024,\n",
       "  'block_size_lastdim_limit': 64,\n",
       "  'thread_id_type': 'int32',\n",
       "  'allow_implicit_memlet_to_map': True},\n",
       " 'fpga': {'autobuild_bitstreams': True,\n",
       "  'minimum_fifo_depth': '',\n",
       "  'vendor': 'xilinx',\n",
       "  'concurrent_kernel_detection': False},\n",
       " 'xilinx': {'mode': 'simulation',\n",
       "  'path': '',\n",
       "  'platform': 'xilinx_u250_xdma_201830_2',\n",
       "  'frequency': '',\n",
       "  'enable_debugging': False,\n",
       "  'host_flags': '-Wno-unknown-pragmas -Wno-unused-label',\n",
       "  'synthesis_flags': '-std=c++14',\n",
       "  'build_flags': '',\n",
       "  'decouple_array_interfaces': False},\n",
       " 'intel_fpga': {'mode': 'emulator',\n",
       "  'path': '',\n",
       "  'board': 'a10gx',\n",
       "  'enable_debugging': False,\n",
       "  'host_flags': '-Wno-unknown-pragmas',\n",
       "  'kernel_flags': '-fp-relaxed -cl-no-signed-zeros -cl-fast-relaxed-math -cl-single-precision-constant -no-interleaving=default'},\n",
       " 'rtl': {'verbose': False,\n",
       "  'verilator_flags': '',\n",
       "  'verilator_lint_warnings': True,\n",
       "  'verilator_enable_debug': False},\n",
       " 'mpi': {'executable': ''},\n",
       " 'linker': {'executable': '', 'args': ''}}"
      ]
     },
     "execution_count": 12,
     "metadata": {},
     "output_type": "execute_result"
    }
   ],
   "source": [
    "config_dict['compiler']"
   ]
  },
  {
   "cell_type": "markdown",
   "id": "4f55ee39",
   "metadata": {},
   "source": []
  },
  {
   "cell_type": "code",
   "execution_count": null,
   "id": "f0db2d90",
   "metadata": {},
   "outputs": [],
   "source": [
    "print(current_conf)\n",
    "default_build_folder_config = current_conf['default_build_folder']\n",
    "default_build_folder_config\n"
   ]
  },
  {
   "cell_type": "markdown",
   "id": "81f47467",
   "metadata": {},
   "source": []
  },
  {
   "cell_type": "code",
   "execution_count": 3,
   "id": "59dce546",
   "metadata": {},
   "outputs": [
    {
     "data": {
      "text/plain": [
       "['__builtins__',\n",
       " '__cached__',\n",
       " '__doc__',\n",
       " '__file__',\n",
       " '__loader__',\n",
       " '__name__',\n",
       " '__package__',\n",
       " '__path__',\n",
       " '__spec__']"
      ]
     },
     "execution_count": 3,
     "metadata": {},
     "output_type": "execute_result"
    }
   ],
   "source": [
    "\n",
    "from dace import libraries\n",
    "dir(libraries)"
   ]
  },
  {
   "cell_type": "code",
   "execution_count": 10,
   "id": "4a89f66b",
   "metadata": {},
   "outputs": [
    {
     "ename": "NameError",
     "evalue": "name 'libraries' is not defined",
     "output_type": "error",
     "traceback": [
      "\u001b[31m---------------------------------------------------------------------------\u001b[39m",
      "\u001b[31mNameError\u001b[39m                                 Traceback (most recent call last)",
      "\u001b[36mCell\u001b[39m\u001b[36m \u001b[39m\u001b[32mIn[10]\u001b[39m\u001b[32m, line 1\u001b[39m\n\u001b[32m----> \u001b[39m\u001b[32m1\u001b[39m blas_lib = \u001b[43mlibraries\u001b[49m.get_library(\u001b[33m'\u001b[39m\u001b[33mblas\u001b[39m\u001b[33m'\u001b[39m)\n\u001b[32m      2\u001b[39m \u001b[38;5;28mprint\u001b[39m(\u001b[33m\"\u001b[39m\u001b[33mDefault BLAS implementation:\u001b[39m\u001b[33m\"\u001b[39m, blas.default_implementation)\n",
      "\u001b[31mNameError\u001b[39m: name 'libraries' is not defined"
     ]
    }
   ],
   "source": [
    "\n",
    "blas_lib = libraries.get_library('blas')\n",
    "print(\"Default BLAS implementation:\", blas.default_implementation)\n",
    "\n"
   ]
  },
  {
   "cell_type": "code",
   "execution_count": 51,
   "id": "35412f7d",
   "metadata": {},
   "outputs": [
    {
     "ename": "AttributeError",
     "evalue": "module 'dace.libraries.blas' has no attribute 'IntelMKLSparse'",
     "output_type": "error",
     "traceback": [
      "\u001b[31m---------------------------------------------------------------------------\u001b[39m",
      "\u001b[31mAttributeError\u001b[39m                            Traceback (most recent call last)",
      "\u001b[36mCell\u001b[39m\u001b[36m \u001b[39m\u001b[32mIn[51]\u001b[39m\u001b[32m, line 1\u001b[39m\n\u001b[32m----> \u001b[39m\u001b[32m1\u001b[39m \u001b[38;5;28mprint\u001b[39m(\u001b[33mf\u001b[39m\u001b[33m\"\u001b[39m\u001b[33mIntel MKL installed: \u001b[39m\u001b[38;5;132;01m{\u001b[39;00mblas.IntelMKL.is_installed()\u001b[38;5;132;01m}\u001b[39;00m\u001b[33m; IntelMKLSparse: \u001b[39m\u001b[38;5;132;01m{\u001b[39;00m\u001b[43mblas\u001b[49m\u001b[43m.\u001b[49m\u001b[43mIntelMKLSparse\u001b[49m.is_installed()\u001b[38;5;132;01m}\u001b[39;00m\u001b[33m\"\u001b[39m)\n\u001b[32m      2\u001b[39m \u001b[38;5;28mprint\u001b[39m(\u001b[33mf\u001b[39m\u001b[33m\"\u001b[39m\u001b[33mOpenBLAS installed: \u001b[39m\u001b[38;5;132;01m{\u001b[39;00mblas.OpenBLAS.is_installed()\u001b[38;5;132;01m}\u001b[39;00m\u001b[33m\"\u001b[39m)\n\u001b[32m      3\u001b[39m \u001b[38;5;28mprint\u001b[39m(\u001b[33mf\u001b[39m\u001b[33m\"\u001b[39m\u001b[33mcuBLAS installed: \u001b[39m\u001b[38;5;132;01m{\u001b[39;00mblas.cuBLAS.is_installed()\u001b[38;5;132;01m}\u001b[39;00m\u001b[33m\"\u001b[39m)\n",
      "\u001b[31mAttributeError\u001b[39m: module 'dace.libraries.blas' has no attribute 'IntelMKLSparse'"
     ]
    }
   ],
   "source": [
    "print(f\"Intel MKL installed: {blas.IntelMKL.is_installed()}; IntelMKLSparse: {blas.IntelMKLSparse.is_installed()}\")\n",
    "print(f\"OpenBLAS installed: {blas.OpenBLAS.is_installed()}\")\n",
    "print(f\"cuBLAS installed: {blas.cuBLAS.is_installed()}\")\n",
    "print(f\"BLAS installed: {blas.BLAS.is_installed()}\")\n",
    "\n",
    "\n",
    "print(f'\\nInstr. rocBLAS: {blas.rocBLAS.is_installed()}')"
   ]
  },
  {
   "cell_type": "code",
   "execution_count": 52,
   "id": "88f35610",
   "metadata": {},
   "outputs": [
    {
     "data": {
      "text/plain": [
       "{'debugprint': 'verbose',\n",
       " 'frontend': {'cache_size': 0,\n",
       "  'implicit_recursion_depth': 64,\n",
       "  'raise_nested_parsing_errors': False,\n",
       "  'verbose_errors': False,\n",
       "  'preprocessing_passes': 5,\n",
       "  'dont_fuse_callbacks': False,\n",
       "  'typed_callbacks_only': False,\n",
       "  'unroll_threshold': 11,\n",
       "  'check_args': False,\n",
       "  'avoid_wcr': False},\n",
       " 'compiler': {'build_type': 'Debug',\n",
       "  'codegen_lineinfo': True,\n",
       "  'extra_cmake_args': '-DBLA_VENDOR=OpenBLAS -DCMAKE_FIND_FRAMEWORK=LAST -DCMAKE_INCLUDE_PATH=${CONDA_PREFIX}/include -DCMAKE_LIBRARY_PATH=${CONDA_PREFIX}/lib',\n",
       "  'cpu': {'executable': '',\n",
       "   'args': '-std=c++14 -fPIC -Wall -Wextra -O3 -march=native -fno-strict-aliasing -Wno-unused-parameter -Wno-unused-label -I/opt/homebrew/Caskroom/miniforge/base/envs/dace-dev/include',\n",
       "   'openmp_sections': False,\n",
       "   'libs': ''},\n",
       "  'linker': {'args': '', 'executable': ''},\n",
       "  'cuda': {'default_block_size': '64,8,1',\n",
       "   'backend': 'auto',\n",
       "   'path': '',\n",
       "   'args': '-Xcompiler -march=native --use_fast_math -Xcompiler -Wno-unused-parameter',\n",
       "   'hip_args': '-std=c++17 -fPIC -O3 -ffast-math -Wno-unused-parameter',\n",
       "   'cuda_arch': '60',\n",
       "   'hip_arch': 'gfx906',\n",
       "   'dynamic_map_block_size': '128,1,1',\n",
       "   'dynamic_map_fine_grained': True,\n",
       "   'persistent_map_SM_fraction': 1.0,\n",
       "   'persistent_map_occupancy': 2,\n",
       "   'max_concurrent_streams': 0,\n",
       "   'syncdebug': False,\n",
       "   'libs': '',\n",
       "   'mempool_release_threshold': -1,\n",
       "   'block_size_limit': 1024,\n",
       "   'block_size_lastdim_limit': 64,\n",
       "   'thread_id_type': 'int32',\n",
       "   'allow_implicit_memlet_to_map': True},\n",
       "  'use_cache': False,\n",
       "  'library_prefix': 'lib',\n",
       "  'library_extension': 'dylib',\n",
       "  'indentation_spaces': 4,\n",
       "  'allow_shadowing': True,\n",
       "  'codegen_state_struct_suffix': '_state_t',\n",
       "  'format_code': False,\n",
       "  'format_config_file': '',\n",
       "  'default_data_types': 'Python',\n",
       "  'unique_functions': 'hash',\n",
       "  'allow_view_arguments': False,\n",
       "  'inline_sdfgs': False,\n",
       "  'max_stack_array_size': 65536,\n",
       "  'fpga': {'autobuild_bitstreams': True,\n",
       "   'minimum_fifo_depth': '',\n",
       "   'vendor': 'xilinx',\n",
       "   'concurrent_kernel_detection': False},\n",
       "  'xilinx': {'mode': 'simulation',\n",
       "   'path': '',\n",
       "   'platform': 'xilinx_u250_xdma_201830_2',\n",
       "   'frequency': '',\n",
       "   'enable_debugging': False,\n",
       "   'host_flags': '-Wno-unknown-pragmas -Wno-unused-label',\n",
       "   'synthesis_flags': '-std=c++14',\n",
       "   'build_flags': '',\n",
       "   'decouple_array_interfaces': False},\n",
       "  'intel_fpga': {'mode': 'emulator',\n",
       "   'path': '',\n",
       "   'board': 'a10gx',\n",
       "   'enable_debugging': False,\n",
       "   'host_flags': '-Wno-unknown-pragmas',\n",
       "   'kernel_flags': '-fp-relaxed -cl-no-signed-zeros -cl-fast-relaxed-math -cl-single-precision-constant -no-interleaving=default'},\n",
       "  'rtl': {'verbose': False,\n",
       "   'verilator_flags': '',\n",
       "   'verilator_lint_warnings': True,\n",
       "   'verilator_enable_debug': False},\n",
       "  'mpi': {'executable': ''}},\n",
       " 'library': {'blas': {'default_implementation': 'OpenBLAS',\n",
       "   'override': False,\n",
       "   'fpga': {'default_stream_depth': 32}},\n",
       "  'lapack': {'default_implementation': 'OpenBLAS', 'override': False},\n",
       "  'linalg': {'default_implementation': 'OpenBLAS', 'override': False},\n",
       "  'pblas': {'default_implementation': 'MKLMPICH', 'override': False}},\n",
       " 'optimizer': {'autospecialize': False,\n",
       "  'autooptimize': False,\n",
       "  'autotile_size': 128,\n",
       "  'autotile_partial_parallelism': True,\n",
       "  'visualize_sdfv': False,\n",
       "  'save_intermediate': False,\n",
       "  'automatic_simplification': True,\n",
       "  'detect_control_flow': True,\n",
       "  'symbolic_positive': True,\n",
       "  'match_exception': False},\n",
       " 'instrumentation': {'report_each_invocation': True,\n",
       "  'papi': {'default_counters': \"['PAPI_TOT_INS', 'PAPI_TOT_CYC', 'PAPI_L2_TCM', 'PAPI_L3_TCM']\",\n",
       "   'overhead_compensation': True,\n",
       "   'vectorization_analysis': False},\n",
       "  'print_fpga_runtime': False},\n",
       " 'progress': True,\n",
       " 'cache': 'name',\n",
       " 'store_history': True,\n",
       " 'default_build_folder': '.dacecache',\n",
       " 'profiling': False,\n",
       " 'profiling_status': True,\n",
       " 'treps': 100,\n",
       " 'call_hooks': '',\n",
       " 'compiled_sdfg_call_hooks': '',\n",
       " 'external_transformations_path': '$HOME/dace_transformations/external_transformations',\n",
       " 'experimental': {'validate_undefs': False, 'check_race_conditions': False},\n",
       " 'testing': {'serialization': False,\n",
       "  'deserialize_exception': False,\n",
       "  'serialize_all_fields': False}}"
      ]
     },
     "execution_count": 52,
     "metadata": {},
     "output_type": "execute_result"
    }
   ],
   "source": [
    "current_conf"
   ]
  },
  {
   "cell_type": "markdown",
   "id": "fd534f2f",
   "metadata": {},
   "source": [
    "## Using this wheel in another environment\n",
    "\n",
    "Here are the exact checks and overrides you likely want when installing the wheel in a fresh environment that may have its own wheels/libs already:\n",
    "\n",
    "\n",
    "\n",
    "1) Install the wheel and BLAS/LAPACK runtime\n",
    "\n",
    "- If using conda:\n",
    "\n",
    "  - `conda install libblas libcblas liblapack openblas` (or `mkl` on x86 if you prefer MKL)\n",
    "\n",
    "- Then install the built wheel:\n",
    "\n",
    "  - `pip install /path/to/dist/dace-1.0.0-py3-none-any.whl`\n",
    "\n",
    "\n",
    "\n",
    "2) Verify BLAS/LAPACK are discoverable (like cell 14)\n",
    "\n",
    "- This lists key libraries and shows what `ctypes.find_library` resolves:\n"
   ]
  },
  {
   "cell_type": "code",
   "execution_count": null,
   "id": "96e78211",
   "metadata": {},
   "outputs": [
    {
     "name": "stdout",
     "output_type": "stream",
     "text": [
      "\n",
      "ctypes.find_library...\n",
      "  blas: /opt/homebrew/Caskroom/miniforge/base/envs/dace-dev/bin/../lib/libblas.dylib <class 'str'>\n",
      "  cblas: /opt/homebrew/Caskroom/miniforge/base/envs/dace-dev/bin/../lib/libcblas.dylib <class 'str'>\n",
      "  pblas: None <class 'NoneType'>\n",
      "  openblas: /opt/homebrew/Caskroom/miniforge/base/envs/dace-dev/bin/../lib/libopenblas.dylib <class 'str'>\n",
      "  libblas: /usr/lib/libblas.dylib <class 'str'>\n",
      "  lapack: /opt/homebrew/Caskroom/miniforge/base/envs/dace-dev/bin/../lib/liblapack.dylib <class 'str'>\n",
      "<module 'ctypes' from '/opt/homebrew/Caskroom/miniforge/base/envs/dace-dev/lib/python3.12/ctypes/__init__.py'>\n"
     ]
    }
   ],
   "source": [
    "import ctypes\n",
    "from ctypes.util import find_library\n",
    "print('\\nctypes.find_library...')\n",
    "\n",
    "for name in ['blas','cblas','openblas','libblas','lapack']:\n",
    "    path = find_library(name)\n",
    "    print(f'  {name}:', path,type(path))\n",
    "print(str(ctypes))\n",
    "# print(path)"
   ]
  },
  {
   "cell_type": "code",
   "execution_count": 55,
   "id": "06ebf8e1",
   "metadata": {},
   "outputs": [
    {
     "name": "stdout",
     "output_type": "stream",
     "text": [
      "Listing known BLAS/LAPACK libs under /opt/homebrew/Caskroom/miniforge/base/envs/dace-dev/lib\n",
      "  libblas*: 3\n",
      "   - libblas.3.dylib\n",
      "   - libblas.dylib\n",
      "   - libblas_reexport.dylib\n",
      "  libcblas*: 2\n",
      "   - libcblas.3.dylib\n",
      "   - libcblas.dylib\n",
      "  liblapack*: 3\n",
      "   - liblapack.3.dylib\n",
      "   - liblapack.dylib\n",
      "   - liblapacke-netlib.3.9.0.dylib\n",
      "  libopenblas*: 7\n",
      "   - libopenblas.0.dylib\n",
      "   - libopenblas.a\n",
      "   - libopenblas.dylib\n",
      "   - libopenblas_armv8p-r0.3.30.dylib\n",
      "   - libopenblas_vortexp-r0.3.30.a\n",
      "   ...\n",
      "  libmkl*: 0\n"
     ]
    }
   ],
   "source": [
    "print('Listing known BLAS/LAPACK libs under', lib)\n",
    "import glob\n",
    "for pat in ['libblas*','libcblas*','liblapack*','libopenblas*','libmkl*']:\n",
    "    matches = sorted(glob.glob(os.path.join(lib, pat)))\n",
    "    print(f'  {pat}:', len(matches))\n",
    "    for m in matches[:5]:\n",
    "        print('   -', os.path.basename(m))\n",
    "    if len(matches) > 5:\n",
    "        print('   ...')"
   ]
  },
  {
   "cell_type": "markdown",
   "id": "d75f614b",
   "metadata": {},
   "source": [
    "Two approaches to configure CMake to use specified compilers\n",
    "\n",
    "1. Set environment variables (before starting Python)\n",
    "2. Set DaCe extra CMake args programmatically\n",
    "\n",
    "---\n",
    "\n"
   ]
  },
  {
   "cell_type": "markdown",
   "id": "6ea5f9f4",
   "metadata": {},
   "source": [
    "Option 1: set environment variables\n",
    "\n",
    "ex. of setting CC/CXX:\n",
    "```bash\n",
    "  export CC=\"$CONDA_PREFIX/bin/clang\"\n",
    "  export CXX=\"$CONDA_PREFIX/bin/clang\"\n",
    "```\n",
    "\n",
    "\n"
   ]
  },
  {
   "cell_type": "markdown",
   "id": "016ff421",
   "metadata": {},
   "source": [
    "\n",
    "Option 2: set DaCe extra CMake args programmatically\n"
   ]
  },
  {
   "cell_type": "code",
   "execution_count": null,
   "id": "35b5247a",
   "metadata": {},
   "outputs": [],
   "source": []
  },
  {
   "cell_type": "code",
   "execution_count": 56,
   "id": "4537aa6d",
   "metadata": {},
   "outputs": [
    {
     "name": "stdout",
     "output_type": "stream",
     "text": [
      "extra_cmake_args: -DBLA_VENDOR=OpenBLAS -DCMAKE_FIND_FRAMEWORK=LAST -DCMAKE_INCLUDE_PATH=${CONDA_PREFIX}/include -DCMAKE_LIBRARY_PATH=${CONDA_PREFIX}/lib\n",
      "extra_cmake_args: -DBLA_VENDOR=OpenBLAS -DCMAKE_FIND_FRAMEWORK=LAST -DCMAKE_INCLUDE_PATH=${CONDA_PREFIX}/include -DCMAKE_LIBRARY_PATH=${CONDA_PREFIX}/lib\n"
     ]
    }
   ],
   "source": [
    "print('extra_cmake_args:', Config.get('compiler','extra_cmake_args'))\n",
    "\n",
    "print('extra_cmake_args:', Config.get('compiler','extra_cmake_args'))\n"
   ]
  },
  {
   "cell_type": "code",
   "execution_count": 57,
   "id": "6322cf84",
   "metadata": {},
   "outputs": [],
   "source": [
    "compiler = Config.get('compiler')\n",
    "# print('compiler:', compiler)"
   ]
  },
  {
   "cell_type": "code",
   "execution_count": 58,
   "id": "ec248162",
   "metadata": {},
   "outputs": [
    {
     "name": "stdout",
     "output_type": "stream",
     "text": [
      "Synchronous debugging enabled: False\n"
     ]
    }
   ],
   "source": [
    "from dace.config import Config\n",
    "\n",
    "print('Synchronous debugging enabled:', Config.get_bool('compiler', 'cuda', 'syncdebug'))\n",
    "\n",
    "Config.set('frontend', 'unroll_threshold', value=11)"
   ]
  },
  {
   "cell_type": "markdown",
   "id": "5e613b55",
   "metadata": {},
   "source": [
    "4) Confirm which tools are on PATH (noisy shell inits avoided)\n",
    "\n",
    "- Use Python to find where llvm/clang live without invoking a login shell.\n"
   ]
  },
  {
   "cell_type": "code",
   "execution_count": 80,
   "id": "bdeb4790",
   "metadata": {},
   "outputs": [
    {
     "name": "stdout",
     "output_type": "stream",
     "text": [
      "cmake: /opt/homebrew/Caskroom/miniforge/base/envs/dace-dev/bin/cmake\n",
      "llvm-config: /opt/homebrew/Caskroom/miniforge/base/envs/dace-dev/bin/llvm-config\n",
      "clang: /opt/homebrew/Caskroom/miniforge/base/envs/dace-dev/bin/clang\n",
      "clang: /opt/homebrew/Caskroom/miniforge/base/envs/dace-dev/bin/clang\n",
      "mlir-opt: /opt/homebrew/Caskroom/miniforge/base/envs/dace-dev/bin/mlir-opt\n",
      "mlir-translate: /opt/homebrew/Caskroom/miniforge/base/envs/dace-dev/bin/mlir-translate\n",
      "mlir: None\n"
     ]
    }
   ],
   "source": [
    "# Resolve tool locations from Python\n",
    "\n",
    "# import shutil, os\n",
    "\n",
    "for tool in ['cmake','llvm-config','clang','clang','mlir-opt','mlir-translate','mlir']:\n",
    "\n",
    "    print(f'{tool}:', shutil.which(tool))\n"
   ]
  },
  {
   "cell_type": "code",
   "execution_count": 5,
   "id": "44212fee",
   "metadata": {},
   "outputs": [
    {
     "name": "stdout",
     "output_type": "stream",
     "text": [
      "cmake: /opt/homebrew/Caskroom/miniforge/base/envs/dace-dev/bin/cmake\n",
      "llvm-config: /opt/homebrew/Caskroom/miniforge/base/envs/dace-dev/bin/llvm-config\n",
      "clang: /opt/homebrew/Caskroom/miniforge/base/envs/dace-dev/bin/clang\n",
      "clang: /opt/homebrew/Caskroom/miniforge/base/envs/dace-dev/bin/clang\n",
      "mlir-opt: /opt/homebrew/Caskroom/miniforge/base/envs/dace-dev/bin/mlir-opt\n",
      "mlir-translate: /opt/homebrew/Caskroom/miniforge/base/envs/dace-dev/bin/mlir-translate\n",
      "mlir: None\n"
     ]
    }
   ],
   "source": [
    "# Resolve tool locations from Python\n",
    "\n",
    "import shutil\n",
    "import subprocess\n",
    "# import shutil, os\n",
    "\n",
    "for tool in ['cmake','llvm-config','clang','clang','mlir-opt','mlir-translate','mlir']:\n",
    "\n",
    "    print(f'{tool}:', shutil.which(tool))"
   ]
  },
  {
   "cell_type": "code",
   "execution_count": 60,
   "id": "087edb7f",
   "metadata": {},
   "outputs": [
    {
     "name": "stdout",
     "output_type": "stream",
     "text": [
      "cmake: /opt/homebrew/Caskroom/miniforge/base/envs/dace-dev/bin/cmake (cmake version 4.1.2)\n",
      "llvm-config: /opt/homebrew/Caskroom/miniforge/base/envs/dace-dev/bin/llvm-config (19.1.7)\n",
      "clang: /opt/homebrew/Caskroom/miniforge/base/envs/dace-dev/bin/clang (clang version 19.1.7)\n",
      "clang: /opt/homebrew/Caskroom/miniforge/base/envs/dace-dev/bin/clang (clang version 19.1.7)\n",
      "mlir-opt: /opt/homebrew/Caskroom/miniforge/base/envs/dace-dev/bin/mlir-opt (LLVM (http://llvm.org/):)\n",
      "mlir-translate: /opt/homebrew/Caskroom/miniforge/base/envs/dace-dev/bin/mlir-translate (LLVM (http://llvm.org/):)\n",
      "mlir: not found\n"
     ]
    }
   ],
   "source": [
    "\n",
    "import shutil\n",
    "import subprocess\n",
    "\n",
    "tools = ['cmake', 'llvm-config', 'clang', 'clang', 'mlir-opt', 'mlir-translate', 'mlir']\n",
    "\n",
    "def get_version(path: str) -> str | None:\n",
    "    # Try common version flags\n",
    "    for flag in ('--version', '-version', '-v', '-V', 'version'):\n",
    "        try:\n",
    "            out = subprocess.check_output([path, flag], stderr=subprocess.STDOUT, text=True, timeout=5)\n",
    "            # Return first non-empty line\n",
    "            for line in out.splitlines():\n",
    "                s = line.strip()\n",
    "                if s:\n",
    "                    return s\n",
    "        except Exception:\n",
    "            continue\n",
    "    return None\n",
    "\n",
    "for tool in tools:\n",
    "    path = shutil.which(tool)\n",
    "    if path:\n",
    "        ver = get_version(path)\n",
    "        print(f'{tool}: {path} ({ver if ver else \"version unknown\"})')\n",
    "    else:\n",
    "        print(f'{tool}: not found')"
   ]
  },
  {
   "cell_type": "markdown",
   "id": "a23df584",
   "metadata": {},
   "source": []
  },
  {
   "cell_type": "markdown",
   "id": "5f46c57b",
   "metadata": {},
   "source": [
    "# Probe DaCe codegen CMake variables\n",
    "\n",
    "This notebook configures CMake against `dace/codegen` and extracts key variables using a small injected CMake script.\n",
    "\n",
    "It reports:\n",
    "- `DACE_PROGRAM_NAME`\n",
    "- `DACE_LIBS`\n",
    "- `HLSLIB_PART_NAME`\n",
    "- `DACE_CUDA_ARCHITECTURES_DEFAULT`\n",
    "- `LOCAL_CUDA_ARCHITECTURES`\n",
    "- `CUDAToolkit_NVCC_EXECUTABLE`\n",
    "\n",
    "We first try a CUDA-triggered configure (to populate CUDA-related values), then fall back to a CPU-only configure if needed."
   ]
  },
  {
   "cell_type": "markdown",
   "id": "fa9d13a9",
   "metadata": {},
   "source": [
    "## 1) Write dump_dace_vars.cmake probe script\n",
    "\n",
    "We use `scripts/dump_dace_vars.cmake` to write `${CMAKE_BINARY_DIR}/dace_vars.json` during configure. It JSON-escapes values and serializes CMake lists as arrays. The fields include:\n",
    "- `DACE_PROGRAM_NAME`\n",
    "- `DACE_LIBS` (array)\n",
    "- `HLSLIB_PART_NAME`\n",
    "- `DACE_CUDA_ARCHITECTURES_DEFAULT`\n",
    "- `LOCAL_CUDA_ARCHITECTURES` (array)\n",
    "- `CUDAToolkit_NVCC_EXECUTABLE`\n",
    "\n",
    "The script is already created by this workspace under `scripts/dump_dace_vars.cmake`."
   ]
  },
  {
   "cell_type": "markdown",
   "id": "b9112458",
   "metadata": {},
   "source": [
    "## 2) Create minimal CUDA trigger source tree\n",
    "\n",
    "CMake’s `foreach(DACE_FILE ...)` logic enables CUDA when a file resides under a `cuda/` folder. We create a temporary tree `.cmake-probe/src/cuda/dummy.cpp` to trigger CUDA detection in the configure step."
   ]
  },
  {
   "cell_type": "code",
   "execution_count": 65,
   "id": "755b8221",
   "metadata": {},
   "outputs": [
    {
     "name": "stdout",
     "output_type": "stream",
     "text": [
      "Created /Users/sophieblock/dev_packages/dace/.cmake-probe/src/cuda/dummy.cpp\n"
     ]
    }
   ],
   "source": [
    "# Create the probe source tree and dummy CUDA file\n",
    "import os\n",
    "from pathlib import Path\n",
    "\n",
    "# In notebooks, __file__ is undefined; use current working directory\n",
    "repo = Path.cwd()\n",
    "probe_dir = repo / '.cmake-probe'\n",
    "src_dir = probe_dir / 'src' / 'cuda'\n",
    "src_dir.mkdir(parents=True, exist_ok=True)\n",
    "(src_dir / 'dummy.cpp').write_text('// dummy\\n')\n",
    "print('Created', src_dir / 'dummy.cpp')"
   ]
  },
  {
   "cell_type": "markdown",
   "id": "bcaa9815",
   "metadata": {},
   "source": [
    "## 3) Configure CMake build with probe script included\n",
    "\n",
    "We configure against `dace/codegen` with `DACE_ENV_CMAKE_FILES` pointing to our probe script. Configuration produces `dace_vars.json` in the build folder. If CUDA fails to configure, we fall back without CUDA."
   ]
  },
  {
   "cell_type": "code",
   "execution_count": 64,
   "id": "b5c55691",
   "metadata": {},
   "outputs": [
    {
     "name": "stdout",
     "output_type": "stream",
     "text": [
      "Running: cmake -S /Users/sophieblock/dev_packages/dace/dace/codegen -B /Users/sophieblock/dev_packages/dace/.cmake-probe/build -DDACE_SRC_DIR=/Users/sophieblock/dev_packages/dace/.cmake-probe/src -DDACE_FILES=cuda/dummy.cpp -DDACE_ENV_CMAKE_FILES=/Users/sophieblock/dev_packages/dace/scripts/dump_dace_vars.cmake -DDACE_FPGA_AUTOBUILD_BITSTREAM=OFF\n",
      "-- The C compiler identification is Clang 19.1.7\n",
      "-- The CXX compiler identification is Clang 19.1.7\n",
      "-- Detecting C compiler ABI info\n",
      "-- Detecting C compiler ABI info - done\n",
      "-- Check for working C compiler: /opt/homebrew/Caskroom/miniforge/base/envs/dace-dev/bin/arm64-apple-darwin20.0.0-clang - skipped\n",
      "-- Detecting C compile features\n",
      "-- Detecting C compile features - done\n",
      "-- Detecting CXX compiler ABI info\n",
      "-- Detecting CXX compiler ABI info - done\n",
      "-- Check for working CXX compiler: /opt/homebrew/Caskroom/miniforge/base/envs/dace-dev/bin/arm64-apple-darwin20.0.0-clang++ - skipped\n",
      "-- Detecting CXX compile features\n",
      "-- Detecting CXX compile features - done\n",
      "-- Performing Test CMAKE_HAVE_LIBC_PTHREAD\n",
      "-- Performing Test CMAKE_HAVE_LIBC_PTHREAD - Success\n",
      "-- Found Threads: TRUE\n",
      "-- Found OpenMP_CXX: -fopenmp=libomp (found version \"5.1\")\n",
      "-- Found OpenMP: TRUE (found version \"5.1\") found components: CXX\n",
      "\u001b[31mCMake Error at /opt/homebrew/Caskroom/miniforge/base/envs/dace-dev/share/cmake-4.1/Modules/FindCUDAToolkit.cmake:914 (message):\n",
      "  Could not find nvcc, please set CUDAToolkit_ROOT.\n",
      "Call Stack (most recent call first):\n",
      "  CMakeLists.txt:123 (find_package)\n",
      "\n",
      "\u001b[0m\n",
      "-- Configuring incomplete, errors occurred!\n",
      "\n",
      "\n",
      "CUDA configure did not produce JSON. Retrying without CUDA...\n",
      "Running: cmake -S /Users/sophieblock/dev_packages/dace/dace/codegen -B /Users/sophieblock/dev_packages/dace/.cmake-probe/build -DDACE_SRC_DIR=/Users/sophieblock/dev_packages/dace/.cmake-probe/src -DDACE_FILES= -DDACE_ENV_CMAKE_FILES=/Users/sophieblock/dev_packages/dace/scripts/dump_dace_vars.cmake -DDACE_FPGA_AUTOBUILD_BITSTREAM=OFF\n",
      "\u001b[31mCMake Error at CMakeLists.txt:191 (if):\n",
      "  if given arguments:\n",
      "\n",
      "    \"4.1.2\" \"VERSION_LESS\"\n",
      "\n",
      "  Unknown arguments specified\n",
      "\n",
      "\u001b[0m\n",
      "-- Configuring incomplete, errors occurred!\n",
      "\n",
      "JSON path: /Users/sophieblock/dev_packages/dace/.cmake-probe/build/dace_vars.json exists: False\n",
      "-- The C compiler identification is Clang 19.1.7\n",
      "-- The CXX compiler identification is Clang 19.1.7\n",
      "-- Detecting C compiler ABI info\n",
      "-- Detecting C compiler ABI info - done\n",
      "-- Check for working C compiler: /opt/homebrew/Caskroom/miniforge/base/envs/dace-dev/bin/arm64-apple-darwin20.0.0-clang - skipped\n",
      "-- Detecting C compile features\n",
      "-- Detecting C compile features - done\n",
      "-- Detecting CXX compiler ABI info\n",
      "-- Detecting CXX compiler ABI info - done\n",
      "-- Check for working CXX compiler: /opt/homebrew/Caskroom/miniforge/base/envs/dace-dev/bin/arm64-apple-darwin20.0.0-clang++ - skipped\n",
      "-- Detecting CXX compile features\n",
      "-- Detecting CXX compile features - done\n",
      "-- Performing Test CMAKE_HAVE_LIBC_PTHREAD\n",
      "-- Performing Test CMAKE_HAVE_LIBC_PTHREAD - Success\n",
      "-- Found Threads: TRUE\n",
      "-- Found OpenMP_CXX: -fopenmp=libomp (found version \"5.1\")\n",
      "-- Found OpenMP: TRUE (found version \"5.1\") found components: CXX\n",
      "\u001b[31mCMake Error at /opt/homebrew/Caskroom/miniforge/base/envs/dace-dev/share/cmake-4.1/Modules/FindCUDAToolkit.cmake:914 (message):\n",
      "  Could not find nvcc, please set CUDAToolkit_ROOT.\n",
      "Call Stack (most recent call first):\n",
      "  CMakeLists.txt:123 (find_package)\n",
      "\n",
      "\u001b[0m\n",
      "-- Configuring incomplete, errors occurred!\n",
      "\n",
      "\n",
      "CUDA configure did not produce JSON. Retrying without CUDA...\n",
      "Running: cmake -S /Users/sophieblock/dev_packages/dace/dace/codegen -B /Users/sophieblock/dev_packages/dace/.cmake-probe/build -DDACE_SRC_DIR=/Users/sophieblock/dev_packages/dace/.cmake-probe/src -DDACE_FILES= -DDACE_ENV_CMAKE_FILES=/Users/sophieblock/dev_packages/dace/scripts/dump_dace_vars.cmake -DDACE_FPGA_AUTOBUILD_BITSTREAM=OFF\n",
      "\u001b[31mCMake Error at CMakeLists.txt:191 (if):\n",
      "  if given arguments:\n",
      "\n",
      "    \"4.1.2\" \"VERSION_LESS\"\n",
      "\n",
      "  Unknown arguments specified\n",
      "\n",
      "\u001b[0m\n",
      "-- Configuring incomplete, errors occurred!\n",
      "\n",
      "JSON path: /Users/sophieblock/dev_packages/dace/.cmake-probe/build/dace_vars.json exists: False\n"
     ]
    }
   ],
   "source": [
    "# Run CMake configure with the probe (try CUDA trigger, then fallback)\n",
    "import json\n",
    "import subprocess\n",
    "from pathlib import Path\n",
    "\n",
    "# In notebooks, __file__ is undefined; use current working directory\n",
    "repo = Path.cwd()\n",
    "codegen = repo / 'dace' / 'codegen'\n",
    "probe_dir = repo / '.cmake-probe'\n",
    "build_dir = probe_dir / 'build'\n",
    "build_dir.mkdir(parents=True, exist_ok=True)\n",
    "probe_cmake = repo / 'scripts' / 'dump_dace_vars.cmake'\n",
    "\n",
    "def run(cmd):\n",
    "    print('Running:', ' '.join(map(str, cmd)))\n",
    "    proc = subprocess.run(cmd, cwd=repo, stdout=subprocess.PIPE, stderr=subprocess.STDOUT, text=True)\n",
    "    print(proc.stdout)\n",
    "    return proc.returncode\n",
    "\n",
    "ret = run([\n",
    "    'cmake','-S', str(codegen), '-B', str(build_dir),\n",
    "    f'-DDACE_SRC_DIR={probe_dir / \"src\"}',\n",
    "    '-DDACE_FILES=cuda/dummy.cpp',\n",
    "    f'-DDACE_ENV_CMAKE_FILES={probe_cmake}',\n",
    "    '-DDACE_FPGA_AUTOBUILD_BITSTREAM=OFF',\n",
    "])\n",
    "\n",
    "json_file = build_dir / 'dace_vars.json'\n",
    "if not json_file.exists():\n",
    "    print('\\nCUDA configure did not produce JSON. Retrying without CUDA...')\n",
    "    ret = run([\n",
    "        'cmake','-S', str(codegen), '-B', str(build_dir),\n",
    "        f'-DDACE_SRC_DIR={probe_dir / \"src\"}',\n",
    "        '-DDACE_FILES=',\n",
    "        f'-DDACE_ENV_CMAKE_FILES={probe_cmake}',\n",
    "        '-DDACE_FPGA_AUTOBUILD_BITSTREAM=OFF',\n",
    "    ])\n",
    "\n",
    "print('JSON path:', json_file, 'exists:', json_file.exists())"
   ]
  },
  {
   "cell_type": "markdown",
   "id": "cdf1ef83",
   "metadata": {},
   "source": [
    "## 4) Parse and display extracted variables\n",
    "\n",
    "We read the generated `dace_vars.json` and pretty-print the values. Lists (like `DACE_LIBS` and `LOCAL_CUDA_ARCHITECTURES`) are shown explicitly."
   ]
  },
  {
   "cell_type": "code",
   "execution_count": 66,
   "id": "5ce61c14",
   "metadata": {},
   "outputs": [
    {
     "ename": "FileNotFoundError",
     "evalue": "Expected /Users/sophieblock/dev_packages/dace/.cmake-probe/build/dace_vars.json not found; run the previous cell.",
     "output_type": "error",
     "traceback": [
      "\u001b[31m---------------------------------------------------------------------------\u001b[39m",
      "\u001b[31mFileNotFoundError\u001b[39m                         Traceback (most recent call last)",
      "\u001b[36mCell\u001b[39m\u001b[36m \u001b[39m\u001b[32mIn[66]\u001b[39m\u001b[32m, line 9\u001b[39m\n\u001b[32m      7\u001b[39m json_file = repo / \u001b[33m'\u001b[39m\u001b[33m.cmake-probe\u001b[39m\u001b[33m'\u001b[39m / \u001b[33m'\u001b[39m\u001b[33mbuild\u001b[39m\u001b[33m'\u001b[39m / \u001b[33m'\u001b[39m\u001b[33mdace_vars.json\u001b[39m\u001b[33m'\u001b[39m\n\u001b[32m      8\u001b[39m \u001b[38;5;28;01mif\u001b[39;00m \u001b[38;5;129;01mnot\u001b[39;00m json_file.exists():\n\u001b[32m----> \u001b[39m\u001b[32m9\u001b[39m     \u001b[38;5;28;01mraise\u001b[39;00m \u001b[38;5;167;01mFileNotFoundError\u001b[39;00m(\u001b[33mf\u001b[39m\u001b[33m\"\u001b[39m\u001b[33mExpected \u001b[39m\u001b[38;5;132;01m{\u001b[39;00mjson_file\u001b[38;5;132;01m}\u001b[39;00m\u001b[33m not found; run the previous cell.\u001b[39m\u001b[33m\"\u001b[39m)\n\u001b[32m     11\u001b[39m data = json.loads(json_file.read_text())\n\u001b[32m     12\u001b[39m \u001b[38;5;28mprint\u001b[39m(\u001b[33m'\u001b[39m\u001b[33mDACE_PROGRAM_NAME:\u001b[39m\u001b[33m'\u001b[39m, data.get(\u001b[33m'\u001b[39m\u001b[33mDACE_PROGRAM_NAME\u001b[39m\u001b[33m'\u001b[39m))\n",
      "\u001b[31mFileNotFoundError\u001b[39m: Expected /Users/sophieblock/dev_packages/dace/.cmake-probe/build/dace_vars.json not found; run the previous cell."
     ]
    }
   ],
   "source": [
    "# Load and display JSON\n",
    "import json\n",
    "from pathlib import Path\n",
    "\n",
    "# In notebooks, __file__ is undefined; use current working directory\n",
    "repo = Path.cwd()\n",
    "json_file = repo / '.cmake-probe' / 'build' / 'dace_vars.json'\n",
    "if not json_file.exists():\n",
    "    raise FileNotFoundError(f\"Expected {json_file} not found; run the previous cell.\")\n",
    "\n",
    "data = json.loads(json_file.read_text())\n",
    "print('DACE_PROGRAM_NAME:', data.get('DACE_PROGRAM_NAME'))\n",
    "print('HLSLIB_PART_NAME:', data.get('HLSLIB_PART_NAME'))\n",
    "print('DACE_CUDA_ARCHITECTURES_DEFAULT:', data.get('DACE_CUDA_ARCHITECTURES_DEFAULT'))\n",
    "print('CUDAToolkit_NVCC_EXECUTABLE:', data.get('CUDAToolkit_NVCC_EXECUTABLE'))\n",
    "\n",
    "print('\\nDACE_LIBS:')\n",
    "for v in (data.get('DACE_LIBS') or []):\n",
    "    print(' -', v)\n",
    "\n",
    "print('\\nLOCAL_CUDA_ARCHITECTURES:')\n",
    "for v in (data.get('LOCAL_CUDA_ARCHITECTURES') or []):\n",
    "    print(' -', v)"
   ]
  },
  {
   "cell_type": "markdown",
   "id": "a9c3a54f",
   "metadata": {},
   "source": [
    "## 5) Fallback path behavior\n",
    "\n",
    "If CUDA configuration fails or is not available on this platform, the probe re-runs CMake without the CUDA trigger. In that case, CUDA-specific variables (e.g., `LOCAL_CUDA_ARCHITECTURES`, `CUDAToolkit_NVCC_EXECUTABLE`) will be null/empty, while CPU/FPGA-related defaults still appear."
   ]
  },
  {
   "cell_type": "markdown",
   "id": "bb114e8f",
   "metadata": {},
   "source": [
    "## 6) Reproducible terminal scripts\n",
    "\n",
    "- Bash: `scripts/probe_env.sh`\n",
    "- PowerShell: `scripts/probe_env.ps1`\n",
    "\n",
    "They replicate this notebook: create a dummy `cuda/dummy.cpp`, run CMake with `DACE_ENV_CMAKE_FILES` pointing to `scripts/dump_dace_vars.cmake`, and print the resulting JSON."
   ]
  },
  {
   "cell_type": "markdown",
   "id": "437bf880",
   "metadata": {},
   "source": []
  },
  {
   "cell_type": "markdown",
   "id": "8f8473d0",
   "metadata": {},
   "source": []
  },
  {
   "cell_type": "markdown",
   "id": "7173657c",
   "metadata": {},
   "source": []
  }
 ],
 "metadata": {
  "kernelspec": {
   "display_name": "dace-dev",
   "language": "python",
   "name": "python3"
  },
  "language_info": {
   "codemirror_mode": {
    "name": "ipython",
    "version": 3
   },
   "file_extension": ".py",
   "mimetype": "text/x-python",
   "name": "python",
   "nbconvert_exporter": "python",
   "pygments_lexer": "ipython3",
   "version": "3.12.11"
  }
 },
 "nbformat": 4,
 "nbformat_minor": 5
}
